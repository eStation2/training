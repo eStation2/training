{
 "cells": [
  {
   "cell_type": "markdown",
   "id": "d9f98a19-ddc0-4c6a-a02f-237a5c414141",
   "metadata": {},
   "source": [
    "# Conversion of Seasonal Forecast data to CPT product"
   ]
  },
  {
   "cell_type": "markdown",
   "id": "6a7d052c-0181-4a51-a46a-5a103a3e79c4",
   "metadata": {},
   "source": [
    "#### Run the below line to launch the GUI.. Using anyother dataset which is not Seasonal forecast may result in error "
   ]
  },
  {
   "cell_type": "code",
   "execution_count": null,
   "id": "db524c1b-ba71-4a5c-bc3f-da3f4fd05a3c",
   "metadata": {},
   "outputs": [],
   "source": [
    "exec(\"\"\"\\nfrom ipywidgets import widgets, Layout, TwoByTwoLayout\\nfrom IPython.display import display, HTML\\nfrom datetime import datetime\\nimport dateutil.relativedelta\\nfrom apps.productmanagement.extended_Dataset import ExtDataset\\ndmax = datetime.today()\\ndmin = dmax + dateutil.relativedelta.relativedelta(months=-1)\\n\\ndatemax= widgets.DatePicker(value=dmax,description='Max date:',\\n                             style={'description_width': 'initial'},indent=False,layout=widgets.Layout(width='200px', height='32px'))\\ndatemin = widgets.DatePicker(value=dmin,description='Min date:',\\n                             style={'description_width': 'initial'},indent=False,layout=widgets.Layout(width='200px', height='32px'))\\nproduct_code_widget = widgets.Text(value='s51-monthly-tp',description='Product code:',\\n                             style={'description_width': 'initial'},indent=False,layout=widgets.Layout(width='300px', height='32px'))\\nsub_product_code_widget = widgets.Text(value='tp',description='Sub Product code:',\\n                             style={'description_width': 'initial'},indent=False,layout=widgets.Layout(width='300px', height='32px'))\\nversion_widget = widgets.Text(value='1.0',description='Version:',\\n                             style={'description_width': 'initial'},indent=False,layout=widgets.Layout(width='300px', height='32px'))\\nmapset_widget = widgets.Text(value='CDS-ACP-1deg',description='Mapset:',\\n                             style={'description_width': 'initial'},indent=False,layout=widgets.Layout(width='300px', height='32px'))\\n#dropdown = widgets.Dropdown(options=['s5-monthly-tp','s5-monthly-2mt','s5-monthly-2mdw','s5-monthly-sst'])\\n\\nlayout_2x2 = TwoByTwoLayout(top_left=product_code_widget,\\n               top_right=sub_product_code_widget,\\n               bottom_left=version_widget,\\n               bottom_right=mapset_widget)\\nbutton = widgets.Button(\\n    description='Convert to CPT',\\n    disabled=False,\\n    button_style='', # 'success', 'info', 'warning', 'danger' or ''\\n    tooltip='Convert to CPT',\\n    icon='check' # (FontAwesome names without the `fa-` prefix)\\n)\\n\\noutput = widgets.Output()\\nDimension_output = widgets.Output()\\nview_output = widgets.Output()\\ndisplay(datemin,datemax,layout_2x2, button)\\n\\ndef on_button_clicked(b):\\n    product= product_code_widget.value\\n    sprod = sub_product_code_widget.value\\n    version = version_widget.value\\n    mapset = mapset_widget.value\\n    kwargs = {\\n            'product_code': product,\\n            'version': version,\\n            'sub_product_code': sprod,\\n            'mapset': mapset\\n        }\\n    tp = ExtDataset(**kwargs)\\n    dmin = datemin.value.strftime('%Y%m%d')\\n    dmax = datemax.value.strftime('%Y%m%d')\\n    tp.filter(str(dmin),str(dmax))\\n    # Convert to CPT format. ( outputs made available in the left pan)\\n    tp.convert_forecast_to_cpt('.')\\n\\nbutton.on_click(on_button_clicked)\\n\"\"\")"
   ]
  },
  {
   "cell_type": "code",
   "execution_count": null,
   "id": "f60239a9-4b0d-424d-8b1d-dc0c65e519cd",
   "metadata": {},
   "outputs": [],
   "source": []
  }
 ],
 "metadata": {
  "kernelspec": {
   "display_name": "Python 3 (ipykernel)",
   "language": "python",
   "name": "python3"
  },
  "language_info": {
   "codemirror_mode": {
    "name": "ipython",
    "version": 3
   },
   "file_extension": ".py",
   "mimetype": "text/x-python",
   "name": "python",
   "nbconvert_exporter": "python",
   "pygments_lexer": "ipython3",
   "version": "3.8.10"
  }
 },
 "nbformat": 4,
 "nbformat_minor": 5
}
