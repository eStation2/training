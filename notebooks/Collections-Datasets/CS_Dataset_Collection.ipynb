{
 "cells": [
  {
   "cell_type": "markdown",
   "id": "65d15655-aac2-40a9-b824-f7432cf3c7e9",
   "metadata": {},
   "source": [
    "**Authors:**  <br>"
   ]
  },
  {
   "cell_type": "markdown",
   "id": "983dfa67-c96c-47bc-8426-bf94a7b4adc8",
   "metadata": {},
   "source": [
    "<div class=\"alert alert-block alert-success\">\n",
    "    <h3>DATASET COLLECTION</h3></div>"
   ]
  },
  {
   "cell_type": "code",
   "execution_count": null,
   "id": "f304cb6a",
   "metadata": {},
   "outputs": [],
   "source": [
    "from apps.productmanagement.collections import Collections"
   ]
  },
  {
   "cell_type": "markdown",
   "id": "f6b178c1-7103-41b9-b5f9-0951fad56edb",
   "metadata": {},
   "source": [
    "### Filter based on category and product code\n"
   ]
  },
  {
   "cell_type": "code",
   "execution_count": null,
   "id": "ca58fbce",
   "metadata": {},
   "outputs": [],
   "source": [
    "Collections(category='vegetation', product_code='vgt-fapar')\n"
   ]
  },
  {
   "cell_type": "code",
   "execution_count": null,
   "id": "71aa8fdc-0a49-4f16-b0d4-59fbaecd9652",
   "metadata": {},
   "outputs": [],
   "source": [
    "Collections()"
   ]
  },
  {
   "cell_type": "code",
   "execution_count": null,
   "id": "97b7a76e-64c1-406c-87e9-929b1771a3be",
   "metadata": {},
   "outputs": [],
   "source": [
    "Collections(sub_product_code='10d')"
   ]
  },
  {
   "cell_type": "code",
   "execution_count": null,
   "id": "0a686656-ab98-4e0c-98d7-e817a0ada076",
   "metadata": {},
   "outputs": [],
   "source": [
    "Collections(category='temperature')"
   ]
  },
  {
   "cell_type": "code",
   "execution_count": null,
   "id": "fec72527-3888-4caf-92cb-92bae463a44c",
   "metadata": {},
   "outputs": [],
   "source": [
    "Collections(category='rainfall', sub_product_code='10d')"
   ]
  },
  {
   "cell_type": "markdown",
   "id": "57134643-dd2d-40c0-843d-255e373a1edf",
   "metadata": {},
   "source": [
    "### Save"
   ]
  },
  {
   "cell_type": "code",
   "execution_count": null,
   "id": "1cadc581",
   "metadata": {},
   "outputs": [],
   "source": [
    "Collections(category='temperature').to_csv('Collections_temperture.csv')"
   ]
  },
  {
   "cell_type": "code",
   "execution_count": null,
   "id": "ac32af2b-eb08-4ae9-8ef1-d3844bf38a7c",
   "metadata": {},
   "outputs": [],
   "source": []
  }
 ],
 "metadata": {
  "kernelspec": {
   "display_name": "Python 3 (ipykernel)",
   "language": "python",
   "name": "python3"
  },
  "language_info": {
   "codemirror_mode": {
    "name": "ipython",
    "version": 3
   },
   "file_extension": ".py",
   "mimetype": "text/x-python",
   "name": "python",
   "nbconvert_exporter": "python",
   "pygments_lexer": "ipython3",
   "version": "3.8.10"
  }
 },
 "nbformat": 4,
 "nbformat_minor": 5
}
