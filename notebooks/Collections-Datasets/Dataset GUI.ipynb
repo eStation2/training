{
 "cells": [
  {
   "cell_type": "markdown",
   "id": "4fe048be",
   "metadata": {},
   "source": [
    "# Dataset files example"
   ]
  },
  {
   "cell_type": "markdown",
   "id": "32796fff-f69e-4fd6-a19f-9e59bb7abb2f",
   "metadata": {},
   "source": [
    "### Launch the below line to start GUI"
   ]
  },
  {
   "cell_type": "code",
   "execution_count": null,
   "id": "b63e1147-a3be-4a36-8b38-0f276b50c772",
   "metadata": {},
   "outputs": [],
   "source": [
    "exec(\"\"\"\\nfrom ipywidgets import widgets, Layout, TwoByTwoLayout, Box, Checkbox\\nfrom IPython.display import display, HTML\\nimport datetime\\nimport dateutil.relativedelta\\nfrom apps.productmanagement.datasets import Dataset\\n\\ndmax = datetime.datetime.today()\\ndmin = dmax + dateutil.relativedelta.relativedelta(months=-1)\\n# dataset1 =Dataset(product_code='modis-fapar', sub_product_code='fapar', version='1.0', mapset='MODIS-Africa-1-1km')\\n# dataset2 =Dataset(product_code='vgt-fapar', sub_product_code='fapar', version='V2.0', mapset='SPOTV-Africa-1km')\\n\\ndatemax= widgets.DatePicker(value=dmax,description='Date to compare:',\\n                             style={'description_width': 'initial'},indent=False,layout=widgets.Layout(width='300px', height='32px'))\\ndatemin = widgets.DatePicker(value=dmin,description='Min date:',\\n                             style={'description_width': 'initial'},indent=False,layout=widgets.Layout(width='200px', height='32px'))\\n\\nproduct_code_widget = widgets.Text(value='tamsat-rfe',description='Product code:',\\n                             style={'description_width': 'initial'},indent=False,layout=widgets.Layout(width='300px', height='32px'))\\nsub_product_code_widget = widgets.Text(value='10d',description='Sub Product code:',\\n                             style={'description_width': 'initial'},indent=False,layout=widgets.Layout(width='300px', height='32px'))\\nversion_widget = widgets.Text(value='3.0',description='Version:',\\n                             style={'description_width': 'initial'},indent=False,layout=widgets.Layout(width='300px', height='32px'))\\nmapset_widget = widgets.Text(value='TAMSAT-Africa-4km',description='Mapset:',style={'description_width': 'initial'},indent=False,layout=widgets.Layout(width='300px', height='32px'))\\n                             \\nlayout_2x2_1 = TwoByTwoLayout(top_left=product_code_widget,\\n    top_right=sub_product_code_widget,\\n    bottom_left=version_widget,\\n    bottom_right=mapset_widget)\\n     \\nform_item_layout = Layout(\\n    display='flex',\\n    flex_flow='column',\\n    justify_content='space-between'\\n)\\n                             \\nform_items = [\\n    Box([layout_2x2_1] , layout=form_item_layout)\\n]\\n\\nform = Box(form_items, layout=Layout(\\n    display='flex',\\n    description='Input parameters',\\n    flex_flow='column',\\n    border='solid 2px',\\n    align_items='stretch',\\n    width='100%'))\\n\\nproducts = widgets.Select(options=[],rows=20, layout=Layout(width='700px', min_width='200px', height='108px'))\\n\\nclear_button = widgets.Button(\\n    description='Clear List',\\n    disabled=False,\\n    button_style='', # 'success', 'info', 'warning', 'danger' or ''\\n    tooltip='Clear the output in the display',\\n    icon='check' # (FontAwesome names without the `fa-` prefix)\\n)\\n\\nbutton = widgets.Button(\\n    description='List the files',\\n    disabled=False,\\n    button_style='', # 'success', 'info', 'warning', 'danger' or ''\\n    tooltip='List the files for the selected product and dates',\\n    icon='check' # (FontAwesome names without the `fa-` prefix)\\n)\\n\\n\\noutput = widgets.Output()\\ndisplay(datemin, datemax, form, button, products,output)\\n\\ndef on_button_clicked(b):\\n    product= product_code_widget.value\\n    sprod = sub_product_code_widget.value\\n    version = version_widget.value\\n    mapset = mapset_widget.value\\n    kwargs = {\\n            'product_code': product,\\n            'version': version,\\n            'sub_product_code': sprod,\\n            'mapset': mapset\\n        }\\n    tp = Dataset(**kwargs)\\n    #dataset1.filter(datemax.value.strftime('%Y%m%d'), datemax.value.strftime('%Y%m%d'))\\n    dmin = datemin.value.strftime('%Y%m%d')\\n    dmax = datemax.value.strftime('%Y%m%d')\\n    tp.filter(str(dmin),str(dmax))\\n    files = tp.get_filenames_range()\\n    products.options = files\\n    #display(clear_button)\\n    with output:\\n        #print(dmin+\"-->\"+dmax+ dropdown.value)\\n        #print(list(files))\\n        output.clear_output()\\n        display(clear_button)\\nbutton.on_click(on_button_clicked)\\n\\ndef on_button_clear(b):\\n    products.options = []\\n        \\nclear_button.on_click(on_button_clear)\\n\"\"\")"
   ]
  },
  {
   "cell_type": "markdown",
   "id": "a95ebf0e-c82d-40cc-8122-15dcf71bf7a6",
   "metadata": {},
   "source": [
    "### Mount the folder "
   ]
  },
  {
   "cell_type": "code",
   "execution_count": null,
   "id": "9a897271-6960-492f-bad8-9a9d0db09646",
   "metadata": {},
   "outputs": [],
   "source": [
    "!ln -s /data/processing/tamsat-rfe  ."
   ]
  },
  {
   "cell_type": "code",
   "execution_count": null,
   "id": "2215e8a7-0ea8-43c6-9521-ddc789d9ba9d",
   "metadata": {},
   "outputs": [],
   "source": []
  }
 ],
 "metadata": {
  "kernelspec": {
   "display_name": "Python 3 (ipykernel)",
   "language": "python",
   "name": "python3"
  },
  "language_info": {
   "codemirror_mode": {
    "name": "ipython",
    "version": 3
   },
   "file_extension": ".py",
   "mimetype": "text/x-python",
   "name": "python",
   "nbconvert_exporter": "python",
   "pygments_lexer": "ipython3",
   "version": "3.8.10"
  }
 },
 "nbformat": 4,
 "nbformat_minor": 5
}
