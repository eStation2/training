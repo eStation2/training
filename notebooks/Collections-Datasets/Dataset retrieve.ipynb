{
 "cells": [
  {
   "cell_type": "markdown",
   "id": "4fe048be",
   "metadata": {},
   "source": [
    "# Dataset Initialization example"
   ]
  },
  {
   "cell_type": "markdown",
   "id": "32796fff-f69e-4fd6-a19f-9e59bb7abb2f",
   "metadata": {},
   "source": [
    "### Import dataset class"
   ]
  },
  {
   "cell_type": "code",
   "execution_count": null,
   "id": "41a73d20",
   "metadata": {},
   "outputs": [],
   "source": [
    "from apps.productmanagement.datasets import Dataset"
   ]
  },
  {
   "cell_type": "code",
   "execution_count": null,
   "id": "76e86759-f3a9-4d80-9c11-0c98c94a03c7",
   "metadata": {
    "tags": []
   },
   "outputs": [],
   "source": [
    "help(Dataset)"
   ]
  },
  {
   "cell_type": "markdown",
   "id": "08b01f6e-f72b-4dc8-a797-bb1537e1eb8e",
   "metadata": {},
   "source": [
    "### Intializes the dataset object by passing the product code, subproduct code, version and mapset"
   ]
  },
  {
   "cell_type": "code",
   "execution_count": null,
   "id": "f5428626",
   "metadata": {},
   "outputs": [],
   "source": [
    "sst = Dataset(product_code='tamsat-rfe', sub_product_code='10d', version='3.0', mapset='TAMSAT-Africa-4km')"
   ]
  },
  {
   "cell_type": "markdown",
   "id": "e1278b45-d7aa-4a1a-a004-f841195176f2",
   "metadata": {},
   "source": [
    "### Display the full list of datasets"
   ]
  },
  {
   "cell_type": "code",
   "execution_count": null,
   "id": "4fe665f4",
   "metadata": {
    "tags": []
   },
   "outputs": [],
   "source": [
    "sst.get_filenames()"
   ]
  },
  {
   "cell_type": "markdown",
   "id": "743f4de4-d7aa-4227-8009-fe658bf45c0d",
   "metadata": {},
   "source": [
    "### Filter the file lists passing start and end date"
   ]
  },
  {
   "cell_type": "code",
   "execution_count": null,
   "id": "024922a2",
   "metadata": {},
   "outputs": [],
   "source": [
    "sst.filter(start_date='20230101', end_date='20230301')"
   ]
  },
  {
   "cell_type": "markdown",
   "id": "d9cbcc9a-128f-4fef-8594-fd9597a5c5ac",
   "metadata": {},
   "source": [
    "### Display the filtered list of datasets"
   ]
  },
  {
   "cell_type": "code",
   "execution_count": null,
   "id": "71a3ac0f",
   "metadata": {},
   "outputs": [],
   "source": [
    "sst.get_filenames_range()"
   ]
  },
  {
   "cell_type": "code",
   "execution_count": null,
   "id": "b63e1147-a3be-4a36-8b38-0f276b50c772",
   "metadata": {},
   "outputs": [],
   "source": []
  }
 ],
 "metadata": {
  "kernelspec": {
   "display_name": "Python 3 (ipykernel)",
   "language": "python",
   "name": "python3"
  },
  "language_info": {
   "codemirror_mode": {
    "name": "ipython",
    "version": 3
   },
   "file_extension": ".py",
   "mimetype": "text/x-python",
   "name": "python",
   "nbconvert_exporter": "python",
   "pygments_lexer": "ipython3",
   "version": "3.8.10"
  }
 },
 "nbformat": 4,
 "nbformat_minor": 5
}
