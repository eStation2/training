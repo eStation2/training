{
 "cells": [
  {
   "cell_type": "markdown",
   "id": "58e329ea",
   "metadata": {},
   "source": [
    "# Processing example - SST fronts"
   ]
  },
  {
   "cell_type": "code",
   "execution_count": null,
   "id": "41a73d20",
   "metadata": {},
   "outputs": [],
   "source": [
    "# Import dataset class and Proc class\n",
    "from apps.productmanagement.datasets import Dataset\n",
    "from apps.processing.proc import Processing"
   ]
  },
  {
   "cell_type": "code",
   "execution_count": null,
   "id": "f5428626",
   "metadata": {},
   "outputs": [],
   "source": [
    "# Intializes the dataset object by passing the product code, subproduct code, version and mapset\n",
    "sst = Dataset(product_code='modis-sst', sub_product_code='sst-day', version='v2019.0', mapset='MODIS-Global-4km')"
   ]
  },
  {
   "cell_type": "code",
   "execution_count": null,
   "id": "024922a2",
   "metadata": {},
   "outputs": [],
   "source": [
    "# Filter the file lists \n",
    "sst.filter(start_date='20221010', end_date='20221012')"
   ]
  },
  {
   "cell_type": "code",
   "execution_count": null,
   "id": "71a3ac0f",
   "metadata": {},
   "outputs": [],
   "source": [
    "# Display the filtered list of datasets\n",
    "sst.get_filenames_range()"
   ]
  },
  {
   "cell_type": "code",
   "execution_count": null,
   "id": "ce503325",
   "metadata": {},
   "outputs": [],
   "source": [
    "# Initialize proc class\n",
    "proc = Processing(sst)"
   ]
  },
  {
   "cell_type": "code",
   "execution_count": null,
   "id": "ef96780f",
   "metadata": {},
   "outputs": [],
   "source": [
    "# Compute SST fronts\n",
    "sst_fronts = proc.sst_fronts_detection()"
   ]
  },
  {
   "cell_type": "code",
   "execution_count": null,
   "id": "f356bc15",
   "metadata": {},
   "outputs": [],
   "source": [
    "#Get all the processed file\n",
    "proc.get_filenames()"
   ]
  },
  {
   "cell_type": "code",
   "execution_count": null,
   "id": "1d10c3df",
   "metadata": {},
   "outputs": [],
   "source": [
    "# Compute SST shapefile\n",
    "sst_shapefile = proc.sst_shapefile_conversion()"
   ]
  },
  {
   "cell_type": "code",
   "execution_count": null,
   "id": "5d5263fb",
   "metadata": {},
   "outputs": [],
   "source": [
    "#Get all the processed file\n",
    "proc.get_filenames()"
   ]
  },
  {
   "cell_type": "code",
   "execution_count": null,
   "id": "b871e86d",
   "metadata": {},
   "outputs": [],
   "source": [
    "# Finally clear the tmporary directory where the computed files are stored\n",
    "proc.close()"
   ]
  },
  {
   "cell_type": "code",
   "execution_count": null,
   "id": "392b06fd",
   "metadata": {},
   "outputs": [],
   "source": []
  }
 ],
 "metadata": {
  "kernelspec": {
   "display_name": "Python 3 (ipykernel)",
   "language": "python",
   "name": "python3"
  },
  "language_info": {
   "codemirror_mode": {
    "name": "ipython",
    "version": 3
   },
   "file_extension": ".py",
   "mimetype": "text/x-python",
   "name": "python",
   "nbconvert_exporter": "python",
   "pygments_lexer": "ipython3",
   "version": "3.8.10"
  }
 },
 "nbformat": 4,
 "nbformat_minor": 5
}
