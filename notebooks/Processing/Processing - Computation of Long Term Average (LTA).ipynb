{
 "cells": [
  {
   "cell_type": "markdown",
   "id": "4fe048be",
   "metadata": {},
   "source": [
    "# Processing - Long Term Average (LTA) computation"
   ]
  },
  {
   "cell_type": "code",
   "execution_count": null,
   "id": "41a73d20",
   "metadata": {},
   "outputs": [],
   "source": [
    "# Import dataset class and Proc class\n",
    "from apps.productmanagement.datasets import Dataset\n",
    "from apps.processing.proc import Processing"
   ]
  },
  {
   "cell_type": "code",
   "execution_count": null,
   "id": "f5428626",
   "metadata": {},
   "outputs": [],
   "source": [
    "# Initializes the dataset object by passing the product code, subproduct code, version and mapset\n",
    "tamsat = Dataset(product_code='tamsat-rfe', sub_product_code='10d', version='3.1', mapset='TAMSAT-Africa-4km')"
   ]
  },
  {
   "cell_type": "code",
   "execution_count": null,
   "id": "024922a2",
   "metadata": {},
   "outputs": [],
   "source": [
    "# Filter the dates (Here 2017 to 2020)\n",
    "tamsat.filter(start_date='20170101', end_date='20201221')"
   ]
  },
  {
   "cell_type": "code",
   "execution_count": null,
   "id": "ce503325",
   "metadata": {},
   "outputs": [],
   "source": [
    "# Initialize proc class\n",
    "proc = Processing(tamsat)"
   ]
  },
  {
   "cell_type": "code",
   "execution_count": null,
   "id": "d284a417",
   "metadata": {},
   "outputs": [],
   "source": [
    "# Compute the LTS Average \n",
    "lts_avg_dataset = proc.compute_LTS_avg()"
   ]
  },
  {
   "cell_type": "code",
   "execution_count": null,
   "id": "f7398c01",
   "metadata": {},
   "outputs": [],
   "source": [
    "#Get all the processed file\n",
    "lts_avg_dataset.get_filenames()"
   ]
  },
  {
   "cell_type": "code",
   "execution_count": null,
   "id": "8d37ca42",
   "metadata": {},
   "outputs": [],
   "source": [
    "# Finally clear the tmporary directory where the computed files are stored\n",
    "proc.close()"
   ]
  },
  {
   "cell_type": "code",
   "execution_count": null,
   "id": "b87bff80-06bd-4d64-94d4-49c6ff96b935",
   "metadata": {},
   "outputs": [],
   "source": []
  }
 ],
 "metadata": {
  "kernelspec": {
   "display_name": "Python 3 (ipykernel)",
   "language": "python",
   "name": "python3"
  },
  "language_info": {
   "codemirror_mode": {
    "name": "ipython",
    "version": 3
   },
   "file_extension": ".py",
   "mimetype": "text/x-python",
   "name": "python",
   "nbconvert_exporter": "python",
   "pygments_lexer": "ipython3",
   "version": "3.8.10"
  }
 },
 "nbformat": 4,
 "nbformat_minor": 5
}
