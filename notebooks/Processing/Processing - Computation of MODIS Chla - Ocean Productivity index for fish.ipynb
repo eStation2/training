{
 "cells": [
  {
   "cell_type": "markdown",
   "id": "4fe048be",
   "metadata": {},
   "source": [
    "# Processing - Computation of MODIS Chla - Ocean Productivity index for fish"
   ]
  },
  {
   "cell_type": "code",
   "execution_count": null,
   "id": "41a73d20",
   "metadata": {},
   "outputs": [],
   "source": [
    "# Import dataset class and Proc class\n",
    "from apps.productmanagement.datasets import Dataset\n",
    "from apps.processing.proc import Processing"
   ]
  },
  {
   "cell_type": "code",
   "execution_count": null,
   "id": "f5428626",
   "metadata": {},
   "outputs": [],
   "source": [
    "# Intializes the dataset object by passing the product code, subproduct code, version and mapset\n",
    "chla = Dataset(product_code='modis-chla', sub_product_code='chla-day', version='v2022.0', mapset='MODIS-Global-4km')"
   ]
  },
  {
   "cell_type": "code",
   "execution_count": null,
   "id": "024922a2",
   "metadata": {},
   "outputs": [],
   "source": [
    "# Filter the file lists \n",
    "chla.filter(start_date='20220913', end_date='20220916')"
   ]
  },
  {
   "cell_type": "code",
   "execution_count": null,
   "id": "71a3ac0f",
   "metadata": {},
   "outputs": [],
   "source": [
    "# Initialize proc class\n",
    "proc = Processing(chla)"
   ]
  },
  {
   "cell_type": "code",
   "execution_count": null,
   "id": "1a6f53d2",
   "metadata": {},
   "outputs": [],
   "source": [
    "# Processing of opfish --> return the list of processed files\n",
    "opfish_files = proc.compute_opfish()"
   ]
  },
  {
   "cell_type": "code",
   "execution_count": null,
   "id": "3cd88add",
   "metadata": {},
   "outputs": [],
   "source": [
    "#Get all the processed file\n",
    "proc.get_filenames()\n"
   ]
  },
  {
   "cell_type": "code",
   "execution_count": null,
   "id": "3b0b5f13",
   "metadata": {},
   "outputs": [],
   "source": [
    "# Finally clear the tmporary directory where the computed files are stored\n",
    "proc.close()"
   ]
  },
  {
   "cell_type": "code",
   "execution_count": null,
   "id": "a4e53be2-4968-4373-a1c9-99aeed215f96",
   "metadata": {},
   "outputs": [],
   "source": []
  }
 ],
 "metadata": {
  "kernelspec": {
   "display_name": "Python 3 (ipykernel)",
   "language": "python",
   "name": "python3"
  },
  "language_info": {
   "codemirror_mode": {
    "name": "ipython",
    "version": 3
   },
   "file_extension": ".py",
   "mimetype": "text/x-python",
   "name": "python",
   "nbconvert_exporter": "python",
   "pygments_lexer": "ipython3",
   "version": "3.8.10"
  }
 },
 "nbformat": 4,
 "nbformat_minor": 5
}
