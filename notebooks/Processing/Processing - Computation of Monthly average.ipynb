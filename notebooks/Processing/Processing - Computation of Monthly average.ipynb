{
 "cells": [
  {
   "cell_type": "markdown",
   "id": "4fe048be",
   "metadata": {},
   "source": [
    "# Processing - Computation of monthly average"
   ]
  },
  {
   "cell_type": "code",
   "execution_count": null,
   "id": "41a73d20",
   "metadata": {},
   "outputs": [],
   "source": [
    "# Import dataset class and Proc class\n",
    "from apps.productmanagement.datasets import Dataset\n",
    "from apps.processing.proc import Processing"
   ]
  },
  {
   "cell_type": "code",
   "execution_count": null,
   "id": "f5428626",
   "metadata": {},
   "outputs": [],
   "source": [
    "# Intializes the dataset object by passing the product code, subproduct code, version and mapset\n",
    "chla = Dataset(product_code='modis-chla', sub_product_code='chla-day', version='v2022.0', mapset='MODIS-Global-4km')"
   ]
  },
  {
   "cell_type": "code",
   "execution_count": null,
   "id": "024922a2",
   "metadata": {},
   "outputs": [],
   "source": [
    "# Filter the dates (Here 2017 to 2020)\n",
    "chla.filter(start_date='20220101', end_date='20221201')"
   ]
  },
  {
   "cell_type": "code",
   "execution_count": null,
   "id": "ce503325",
   "metadata": {},
   "outputs": [],
   "source": [
    "# Initialize proc class\n",
    "proc = Processing(chla)"
   ]
  },
  {
   "cell_type": "code",
   "execution_count": null,
   "id": "d284a417",
   "metadata": {},
   "outputs": [],
   "source": [
    "# Compute cumulation from 10d to month\n",
    "monthly_average_dataset = proc.compute_average(output_frequency='month',output_sprod='monthly_average')"
   ]
  },
  {
   "cell_type": "code",
   "execution_count": null,
   "id": "f7398c01",
   "metadata": {},
   "outputs": [],
   "source": [
    "#Get all the processed file\n",
    "monthly_average_dataset.get_filenames()"
   ]
  },
  {
   "cell_type": "code",
   "execution_count": null,
   "id": "8d37ca42",
   "metadata": {},
   "outputs": [],
   "source": [
    "# Finally clear the tmporary directory where the computed files are stored\n",
    "proc.close()"
   ]
  },
  {
   "cell_type": "code",
   "execution_count": null,
   "id": "421d28ba",
   "metadata": {},
   "outputs": [],
   "source": []
  }
 ],
 "metadata": {
  "kernelspec": {
   "display_name": "Python 3 (ipykernel)",
   "language": "python",
   "name": "python3"
  },
  "language_info": {
   "codemirror_mode": {
    "name": "ipython",
    "version": 3
   },
   "file_extension": ".py",
   "mimetype": "text/x-python",
   "name": "python",
   "nbconvert_exporter": "python",
   "pygments_lexer": "ipython3",
   "version": "3.8.10"
  }
 },
 "nbformat": 4,
 "nbformat_minor": 5
}
