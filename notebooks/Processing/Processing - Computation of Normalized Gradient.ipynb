{
 "cells": [
  {
   "cell_type": "code",
   "execution_count": null,
   "id": "ffefe62f-3d12-4971-8dc0-be12e261019d",
   "metadata": {},
   "outputs": [],
   "source": [
    "# Import dataset class and Proc class\n",
    "from apps.productmanagement.datasets import Dataset\n",
    "from apps.processing.proc import Processing\n",
    "# Intializes the dataset object by passing the product code, subproduct code, version and mapset\n",
    "chla = Dataset(product_code='modis-chla', sub_product_code='chla-day', version='v2022.0', mapset='MODIS-Global-4km')\n",
    "# Filter the file lists \n",
    "chla.filter(start_date='20220701', end_date='20220702')\n",
    "# Initialize proc class\n",
    "proc = Processing(chla)"
   ]
  },
  {
   "cell_type": "code",
   "execution_count": null,
   "id": "d5921025-28f2-4d54-9ebd-4a1ae641eef9",
   "metadata": {},
   "outputs": [],
   "source": [
    "chla.get_filenames_range()"
   ]
  },
  {
   "cell_type": "code",
   "execution_count": null,
   "id": "63edc3c9-25a5-4ddb-911b-3fd27ebdc45e",
   "metadata": {},
   "outputs": [],
   "source": [
    "# Processing of opfish\n",
    "opfish_files = proc.compute_gradient()"
   ]
  },
  {
   "cell_type": "code",
   "execution_count": null,
   "id": "38990125-fbba-4b90-8644-894e293d61bc",
   "metadata": {},
   "outputs": [],
   "source": [
    "opfish_files.get_filenames()"
   ]
  },
  {
   "cell_type": "code",
   "execution_count": null,
   "id": "e81cf585-0a24-418e-9c9d-1d2e8c0da1b8",
   "metadata": {},
   "outputs": [],
   "source": [
    "proc.close()"
   ]
  },
  {
   "cell_type": "code",
   "execution_count": null,
   "id": "c8c1a139-4fce-4d00-a733-e83b7adb558e",
   "metadata": {},
   "outputs": [],
   "source": []
  }
 ],
 "metadata": {
  "kernelspec": {
   "display_name": "Python 3 (ipykernel)",
   "language": "python",
   "name": "python3"
  },
  "language_info": {
   "codemirror_mode": {
    "name": "ipython",
    "version": 3
   },
   "file_extension": ".py",
   "mimetype": "text/x-python",
   "name": "python",
   "nbconvert_exporter": "python",
   "pygments_lexer": "ipython3",
   "version": "3.8.10"
  }
 },
 "nbformat": 4,
 "nbformat_minor": 5
}
