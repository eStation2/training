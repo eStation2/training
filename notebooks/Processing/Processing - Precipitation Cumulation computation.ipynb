{
 "cells": [
  {
   "cell_type": "markdown",
   "id": "4fe048be",
   "metadata": {},
   "source": [
    "# Processing - Cumulation computation"
   ]
  },
  {
   "cell_type": "markdown",
   "id": "1b63c31a-b2a7-46f4-9c0d-33ef99442dde",
   "metadata": {},
   "source": [
    "### Import dataset class and Proc class"
   ]
  },
  {
   "cell_type": "code",
   "execution_count": null,
   "id": "41a73d20",
   "metadata": {},
   "outputs": [],
   "source": [
    "from apps.productmanagement.datasets import Dataset\n",
    "from apps.processing.proc import Processing"
   ]
  },
  {
   "cell_type": "markdown",
   "id": "37853a29-5479-4a07-a78b-ef69ced92f8c",
   "metadata": {},
   "source": [
    "### Initializes the dataset object by passing the product code, subproduct code, version and mapset"
   ]
  },
  {
   "cell_type": "code",
   "execution_count": null,
   "id": "f5428626",
   "metadata": {},
   "outputs": [],
   "source": [
    "tamsat = Dataset(product_code='tamsat-rfe', sub_product_code='10d', version='3.1', mapset='TAMSAT-Africa-4km')"
   ]
  },
  {
   "cell_type": "markdown",
   "id": "09ff9abb-e18f-4124-8f8d-1f952f740555",
   "metadata": {},
   "source": [
    "### Filter the dates (Here 2020 to 2021)"
   ]
  },
  {
   "cell_type": "code",
   "execution_count": null,
   "id": "024922a2",
   "metadata": {},
   "outputs": [],
   "source": [
    "tamsat.filter(start_date='20200101', end_date='20201221')"
   ]
  },
  {
   "cell_type": "markdown",
   "id": "f4e8687f-7e55-4b49-8fbf-a70267edaec1",
   "metadata": {},
   "source": [
    "### Initialize proc class"
   ]
  },
  {
   "cell_type": "code",
   "execution_count": null,
   "id": "ce503325",
   "metadata": {},
   "outputs": [],
   "source": [
    "proc = Processing(tamsat)"
   ]
  },
  {
   "cell_type": "markdown",
   "id": "57b02161-8a07-4986-bb8a-13b24b02a6cb",
   "metadata": {},
   "source": [
    "### Compute cumulation from 10d to month"
   ]
  },
  {
   "cell_type": "code",
   "execution_count": null,
   "id": "d284a417",
   "metadata": {},
   "outputs": [],
   "source": [
    "monthly_cumulative_dataset = proc.compute_cumulative(output_frequency='month',output_sprod='monthly_cumulative')"
   ]
  },
  {
   "cell_type": "markdown",
   "id": "8c97c623-9040-471e-92a2-49bd642232e7",
   "metadata": {},
   "source": [
    "### Get all the processed file"
   ]
  },
  {
   "cell_type": "code",
   "execution_count": null,
   "id": "f7398c01",
   "metadata": {},
   "outputs": [],
   "source": [
    "monthly_cumulative_dataset.get_filenames()"
   ]
  },
  {
   "cell_type": "markdown",
   "id": "594f1298-0644-4551-adc0-312d4019db37",
   "metadata": {},
   "source": [
    "### Finally clear the tmporary directory where the computed files are stored"
   ]
  },
  {
   "cell_type": "code",
   "execution_count": null,
   "id": "8d37ca42",
   "metadata": {},
   "outputs": [],
   "source": [
    "proc.close()"
   ]
  },
  {
   "cell_type": "code",
   "execution_count": null,
   "id": "cceb071c",
   "metadata": {},
   "outputs": [],
   "source": []
  }
 ],
 "metadata": {
  "kernelspec": {
   "display_name": "Python 3 (ipykernel)",
   "language": "python",
   "name": "python3"
  },
  "language_info": {
   "codemirror_mode": {
    "name": "ipython",
    "version": 3
   },
   "file_extension": ".py",
   "mimetype": "text/x-python",
   "name": "python",
   "nbconvert_exporter": "python",
   "pygments_lexer": "ipython3",
   "version": "3.8.10"
  }
 },
 "nbformat": 4,
 "nbformat_minor": 5
}
