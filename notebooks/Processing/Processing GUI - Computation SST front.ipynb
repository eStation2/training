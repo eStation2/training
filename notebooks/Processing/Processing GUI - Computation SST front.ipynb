{
 "cells": [
  {
   "cell_type": "markdown",
   "id": "6427b730-a557-49a9-8e59-82cf923f41c1",
   "metadata": {},
   "source": [
    "# Processing - Computation SST front"
   ]
  },
  {
   "cell_type": "markdown",
   "id": "ed73d68d-d9e6-47c1-bece-0c0e8e9b4fc1",
   "metadata": {},
   "source": [
    "#### Run the below line to launch the GUI.. "
   ]
  },
  {
   "cell_type": "code",
   "execution_count": null,
   "id": "ffe3468f-2dee-438a-920c-050b5f7cd681",
   "metadata": {},
   "outputs": [],
   "source": [
    "exec(\"\"\"\\nfrom ipywidgets import widgets, Layout, TwoByTwoLayout, Box, Checkbox\\nfrom IPython.display import display, HTML\\nfrom datetime import datetime\\nimport dateutil.relativedelta\\nfrom apps.productmanagement.datasets import Dataset\\nfrom apps.processing.proc import Processing\\n\\ndmax = datetime.today()\\ndmin = dmax + dateutil.relativedelta.relativedelta(months=-1)\\n\\ndatemax= widgets.DatePicker(value=dmax,description='Max date:',\\n                             style={'description_width': 'initial'},indent=False,layout=widgets.Layout(width='200px', height='32px'))\\ndatemin = widgets.DatePicker(value=dmin,description='Min date:',\\n                             style={'description_width': 'initial'},indent=False,layout=widgets.Layout(width='200px', height='32px'))\\nproduct_code_widget = widgets.Text(value='modis-sst',description='Product code:',\\n                             style={'description_width': 'initial'},indent=False,layout=widgets.Layout(width='300px', height='32px'))\\nsub_product_code_widget = widgets.Text(value='sst-day',description='Sub Product code:',\\n                             style={'description_width': 'initial'},indent=False,layout=widgets.Layout(width='300px', height='32px'))\\nversion_widget = widgets.Text(value='v2019.0',description='Version:',\\n                             style={'description_width': 'initial'},indent=False,layout=widgets.Layout(width='300px', height='32px'))\\nmapset_widget = widgets.Text(value='MODIS-Global-4km',description='Mapset:',\\n                             style={'description_width': 'initial'},indent=False,layout=widgets.Layout(width='300px', height='32px'))\\n#dropdown = widgets.Dropdown(options=['s5-monthly-tp','s5-monthly-2mt','s5-monthly-2mdw','s5-monthly-sst'])\\n\\nhistogramWindowStride_widget = widgets.Text(value='16',description='Histogram Window Stride:',\\n                             style={'description_width': 'initial'},indent=False,layout=widgets.Layout(width='200px', height='32px'))\\nhistogramWindowSize_widget = widgets.Text(value='32',description='Histogram Window Size:',\\n                             style={'description_width': 'initial'},indent=False,layout=widgets.Layout(width='200px', height='32px'))\\nminTheta_widget = widgets.Text(value='0.76',description='Minimum Theta:',\\n                             style={'description_width': 'initial'},indent=False,layout=widgets.Layout(width='200px', height='32px'))\\nminPopProp_widget = widgets.Text(value='0.25',description='Minimum Pop Prop:',\\n                             style={'description_width': 'initial'},indent=False,layout=widgets.Layout(width='200px', height='32px'))\\nminPopMeanDifference_widget = widgets.Text(value='20',description='Minimum Pop Mean Difference:',\\n                             style={'description_width': 'initial'},indent=False,layout=widgets.Layout(width='250px', height='32px'))\\nminSinglePopCohesion_widget = widgets.Text(value='0.60',description='Minimum Single Pop Cohesion:',\\n                             style={'description_width': 'initial'},indent=False,layout=widgets.Layout(width='250px', height='32px'))\\nminImageValue_widget = widgets.Text(value='1',description='Minimum Image Value:',\\n                             style={'description_width': 'initial'},indent=False,layout=widgets.Layout(width='200px', height='32px'))\\nminThreshold_widget = widgets.Text(value='1',description='Minimum Image Value:',\\n                             style={'description_width': 'initial'},indent=False,layout=widgets.Layout(width='200px', height='32px'))\\n\\nlayout_2x2_1 = TwoByTwoLayout(top_left=product_code_widget,\\n               top_right=sub_product_code_widget,\\n               bottom_left=version_widget,\\n               bottom_right=mapset_widget)\\n\\nlayout_2x2_2 = TwoByTwoLayout(top_left=histogramWindowStride_widget,\\n               top_right=histogramWindowSize_widget,\\n               bottom_left=minTheta_widget,\\n               bottom_right=minPopProp_widget)\\n\\nlayout_2x2_3 = TwoByTwoLayout(top_left=minPopMeanDifference_widget,\\n               top_right=minSinglePopCohesion_widget,\\n               bottom_left=minImageValue_widget,\\n               bottom_right=minThreshold_widget)\\n\\nform_item_layout = Layout(\\n    display='flex',\\n    flex_flow='column',\\n    justify_content='space-between'\\n)\\nform_items = [\\n    #Box([layout_2x2_1] , layout=form_item_layout),\\n    Box([layout_2x2_2] , layout=form_item_layout),\\n    Box([layout_2x2_3], layout=form_item_layout)\\n]\\n\\nform = Box(form_items, layout=Layout(\\n    display='flex',\\n    flex_flow='column',\\n    border='solid 2px',\\n    align_items='stretch',\\n    width='70%'\\n))\\n\\nbutton = widgets.Button(\\n    description='Compute SST Fronts',\\n    disabled=False,\\n    button_style='', # 'success', 'info', 'warning', 'danger' or ''\\n    layout=widgets.Layout(width='180px', height='32px'),\\n    tooltip='Compute SST Fronts',\\n    icon='check' # (FontAwesome names without the `fa-` prefix)\\n)\\nassign_metadata_box = Checkbox(True, description='Assign metadata')\\noutput = widgets.Output()\\n#display(datemin,datemax,product_code_widget,sub_product_code_widget,version_widget,mapset_widget,histogramWindowStride_widget,histogramWindowSize_widget,minTheta_widget,minPopProp_widget, minPopMeanDifference_widget, minSinglePopCohesion_widget, minThreshold_widget, minImageValue_widget, button, output)\\n\\ndisplay(datemin,datemax,layout_2x2_1,form,assign_metadata_box, button, output)\\n\\ndef on_button_clicked(b):\\n    product= product_code_widget.value\\n    sprod = sub_product_code_widget.value\\n    version = version_widget.value\\n    mapset = mapset_widget.value\\n    \\n    parameters = {'histogramWindowStride': int(histogramWindowStride_widget.value),\\n              'histogramWindowSize':  int(histogramWindowSize_widget.value),\\n              'minTheta':  float(minTheta_widget.value),\\n              'minPopProp':  float(minPopProp_widget.value),\\n              'minPopMeanDifference':  int(minPopMeanDifference_widget.value),  # Temperature: 0.45 deg (multiply by 100 !!)\\n              'minSinglePopCohesion':  float(minSinglePopCohesion_widget.value),\\n              'minImageValue':  int(minImageValue_widget.value),\\n              'minThreshold':  int(minThreshold_widget.value)}\\n    \\n    kwargs = {\\n            'product_code': product,\\n            'version': version,\\n            'sub_product_code': sprod,\\n            'mapset': mapset\\n        }\\n    sst = Dataset(**kwargs)\\n    dmin = datemin.value.strftime('%Y%m%d')\\n    dmax = datemax.value.strftime('%Y%m%d')\\n    sst.filter(str(dmin),str(dmax))\\n    #files = tp.get_filenames_range()\\n    # Initialize proc class\\n    proc = Processing(sst)\\n    proc.write_metadata = assign_metadata_box.value\\n    # Compute SST fronts\\n    sst_fronts = proc.sst_fronts_detection(params=parameters)\\n    # Finally clear the tmporary directory where the computed files are stored\\n    proc.close()\\n\\nbutton.on_click(on_button_clicked)\\n\"\"\")"
   ]
  },
  {
   "cell_type": "code",
   "execution_count": null,
   "id": "3ec29397-5c51-4155-8534-f20f979eaf4d",
   "metadata": {},
   "outputs": [],
   "source": []
  }
 ],
 "metadata": {
  "kernelspec": {
   "display_name": "Python 3 (ipykernel)",
   "language": "python",
   "name": "python3"
  },
  "language_info": {
   "codemirror_mode": {
    "name": "ipython",
    "version": 3
   },
   "file_extension": ".py",
   "mimetype": "text/x-python",
   "name": "python",
   "nbconvert_exporter": "python",
   "pygments_lexer": "ipython3",
   "version": "3.8.10"
  }
 },
 "nbformat": 4,
 "nbformat_minor": 5
}
