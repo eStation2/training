{
 "cells": [
  {
   "cell_type": "markdown",
   "id": "6427b730-a557-49a9-8e59-82cf923f41c1",
   "metadata": {},
   "source": [
    "# Processing - Absolute difference computation"
   ]
  },
  {
   "cell_type": "markdown",
   "id": "ed73d68d-d9e6-47c1-bece-0c0e8e9b4fc1",
   "metadata": {},
   "source": [
    "#### Run the below line to launch the GUI.. "
   ]
  },
  {
   "cell_type": "code",
   "execution_count": null,
   "id": "ffe3468f-2dee-438a-920c-050b5f7cd681",
   "metadata": {},
   "outputs": [],
   "source": [
    "exec(\"\"\"\\nfrom ipywidgets import widgets, Layout, TwoByTwoLayout, Checkbox\\nfrom IPython.display import display, HTML\\nfrom datetime import datetime\\nimport dateutil.relativedelta\\nfrom apps.productmanagement.datasets import Dataset\\nfrom apps.processing.proc import Processing\\n\\ndmax = datetime.today()\\ndmin = dmax + dateutil.relativedelta.relativedelta(months=-1)\\n\\ndatemax= widgets.DatePicker(value=dmax,description='Max date:',\\n                             style={'description_width': 'initial'},indent=False,layout=widgets.Layout(width='200px', height='32px'))\\ndatemin = widgets.DatePicker(value=dmin,description='Min date:',\\n                             style={'description_width': 'initial'},indent=False,layout=widgets.Layout(width='200px', height='32px'))\\nproduct_code_widget = widgets.Text(value='tamsat-rfe',description='Product code:',\\n                             style={'description_width': 'initial'},indent=False,layout=widgets.Layout(width='300px', height='32px'))\\nsub_product_code_widget = widgets.Text(value='10d',description='Sub Product code:',\\n                             style={'description_width': 'initial'},indent=False,layout=widgets.Layout(width='300px', height='32px'))\\nversion_widget = widgets.Text(value='3.1',description='Version:',\\n                             style={'description_width': 'initial'},indent=False,layout=widgets.Layout(width='300px', height='32px'))\\nmapset_widget = widgets.Text(value='TAMSAT-Africa-4km',description='Mapset:',\\n                             style={'description_width': 'initial'},indent=False,layout=widgets.Layout(width='300px', height='32px'))\\n#dropdown = widgets.Dropdown(options=['s5-monthly-tp','s5-monthly-2mt','s5-monthly-2mdw','s5-monthly-sst'])\\n\\nlayout_2x2 = TwoByTwoLayout(top_left=product_code_widget,\\n               top_right=sub_product_code_widget,\\n               bottom_left=version_widget,\\n               bottom_right=mapset_widget)\\n\\nbutton = widgets.Button(\\n    description='Compute absolute difference',\\n    disabled=False,\\n    button_style='', # 'success', 'info', 'warning', 'danger' or ''\\n    tooltip='Compute absolute difference',\\n    icon='check' # (FontAwesome names without the `fa-` prefix)\\n)\\nassign_metadata_box = Checkbox(False, description='Assign metadata')\\noutput = widgets.Output()\\n\\ndisplay(datemin,datemax,layout_2x2, assign_metadata_box, button)\\n\\ndef on_button_clicked(b):\\n    product= product_code_widget.value\\n    sprod = sub_product_code_widget.value\\n    version = version_widget.value\\n    mapset = mapset_widget.value\\n    kwargs = {\\n            'product_code': product,\\n            'version': version,\\n            'sub_product_code': sprod,\\n            'mapset': mapset\\n        }\\n    \\n    if sprod == '10d':\\n        sprod_avg = '10davg'\\n    else:\\n        sprod_avg = '1monavg'\\n    kwargs_avg = {\\n        'product_code': product,\\n        'version': version,\\n        'sub_product_code': sprod_avg,\\n        'mapset': mapset\\n    }\\n    tp = Dataset(**kwargs)\\n    tp_avg = Dataset(**kwargs_avg)\\n    dmin = datemin.value.strftime('%Y%m%d')\\n    dmax = datemax.value.strftime('%Y%m%d')\\n    tp.filter(str(dmin),str(dmax))\\n    #files = tp.get_filenames_range()\\n    proc = Processing(tp)\\n    proc.write_metadata = assign_metadata_box.value\\n    # Abs Diff computation\\n    absolute_difference_dataset = proc.compute_absolute_difference(avg_dataset=tp_avg)\\n    proc.close()\\n\\nbutton.on_click(on_button_clicked)\\n\"\"\")"
   ]
  },
  {
   "cell_type": "code",
   "execution_count": null,
   "id": "3ec29397-5c51-4155-8534-f20f979eaf4d",
   "metadata": {},
   "outputs": [],
   "source": []
  }
 ],
 "metadata": {
  "kernelspec": {
   "display_name": "Python 3 (ipykernel)",
   "language": "python",
   "name": "python3"
  },
  "language_info": {
   "codemirror_mode": {
    "name": "ipython",
    "version": 3
   },
   "file_extension": ".py",
   "mimetype": "text/x-python",
   "name": "python",
   "nbconvert_exporter": "python",
   "pygments_lexer": "ipython3",
   "version": "3.8.10"
  }
 },
 "nbformat": 4,
 "nbformat_minor": 5
}
